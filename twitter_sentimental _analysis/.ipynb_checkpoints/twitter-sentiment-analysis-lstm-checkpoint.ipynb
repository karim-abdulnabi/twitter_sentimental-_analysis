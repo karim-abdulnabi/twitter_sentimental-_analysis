{
 "cells": [
  {
   "cell_type": "markdown",
   "metadata": {
    "_cell_guid": "4fd1cc5c-3d33-4178-a761-ef5dfba36d96",
    "_uuid": "7d741102-6897-4ac3-82ec-01e155f4ebed"
   },
   "source": [
    "## Overview \n",
    "\n",
    "This script performs EDA and then preprocesses multiple datasets to train a bidirectional LSTM model which is in turn used to predict the sentiments behind tweets fetched in real time using `tweepy` and classify them as positive negative or neutral.\n",
    "\n",
    "The model is then integrated with streamlit and deployed as a web-app.\n",
    "\n",
    "**Checkout the web-app:** [Sententia](https://share.streamlit.io/kritanjalijain/twitter_sentiment_analysis/main/app.py)"
   ]
  },
  {
   "cell_type": "markdown",
   "metadata": {
    "_cell_guid": "e9af0762-88ad-444a-98d6-b60ff39fb1f7",
    "_uuid": "e323ac66-f138-4c99-84e7-ffc2d736df95"
   },
   "source": [
    "## Installing and importing dependencies"
   ]
  },
  {
   "cell_type": "markdown",
   "metadata": {
    "_cell_guid": "ad397e61-b81d-48bc-bb0c-471762f5620e",
    "_uuid": "f5296f63-a4d8-448f-8a66-4a5a74844b73"
   },
   "source": [
    "To fetch tweets from twitter, we need to install the tweepy library. We will be using this package to pull tweets on which our model will make predictions."
   ]
  },
  {
   "cell_type": "code",
   "execution_count": null,
   "metadata": {
    "_cell_guid": "d5917246-e88f-4459-bfe1-0782b019a9aa",
    "_uuid": "10589cdb-f83f-4854-ab71-52fba77151f2",
    "execution": {
     "iopub.execute_input": "2022-09-27T21:49:02.184784Z",
     "iopub.status.busy": "2022-09-27T21:49:02.184396Z",
     "iopub.status.idle": "2022-09-27T21:49:11.576815Z",
     "shell.execute_reply": "2022-09-27T21:49:11.575652Z",
     "shell.execute_reply.started": "2022-09-27T21:49:02.184679Z"
    },
    "jupyter": {
     "outputs_hidden": false
    }
   },
   "outputs": [],
   "source": [
    "!pip install tweepy"
   ]
  },
  {
   "cell_type": "code",
   "execution_count": null,
   "metadata": {
    "_cell_guid": "76f1f3d0-b6fe-44a9-993e-ecfe7f108944",
    "_uuid": "c0e8bf21-9fc1-464b-a11b-6bdf4b0f9fce",
    "execution": {
     "iopub.execute_input": "2022-09-27T21:49:11.579332Z",
     "iopub.status.busy": "2022-09-27T21:49:11.578952Z",
     "iopub.status.idle": "2022-09-27T21:49:17.776738Z",
     "shell.execute_reply": "2022-09-27T21:49:17.775976Z",
     "shell.execute_reply.started": "2022-09-27T21:49:11.579291Z"
    },
    "jupyter": {
     "outputs_hidden": false
    }
   },
   "outputs": [],
   "source": [
    "import numpy as np # linear algebra\n",
    "import pandas as pd # data processing\n",
    "import os\n",
    "import tweepy as tw #for accessing Twitter API\n",
    "\n",
    "\n",
    "#For Preprocessing\n",
    "import re    # RegEx for removing non-letter characters\n",
    "import nltk  #natural language processing\n",
    "nltk.download(\"stopwords\")\n",
    "from nltk.corpus import stopwords\n",
    "from nltk.stem.porter import *\n",
    "\n",
    "# For Building the model\n",
    "from sklearn.model_selection import train_test_split\n",
    "import tensorflow as tf\n",
    "import seaborn as sns\n",
    "\n",
    "#For data visualization\n",
    "import matplotlib.pyplot as plt\n",
    "import matplotlib.patches as mpatches\n",
    "%matplotlib inline\n",
    "\n",
    "pd.options.plotting.backend = \"plotly\""
   ]
  },
  {
   "cell_type": "markdown",
   "metadata": {
    "_cell_guid": "782f9485-6c3a-417a-bcd3-d8cdbb354969",
    "_uuid": "e68b1162-2764-4e03-9b85-b4786bb3c20a"
   },
   "source": [
    "## Exploratory Data Analysis"
   ]
  },
  {
   "cell_type": "markdown",
   "metadata": {
    "_cell_guid": "49547739-db4d-4559-b6d2-600ecd225d3e",
    "_uuid": "88e14970-da9b-4403-af5e-c631eede9c19"
   },
   "source": [
    "### Cleaning and prepping dataset"
   ]
  },
  {
   "cell_type": "code",
   "execution_count": null,
   "metadata": {
    "_cell_guid": "debf7898-99e6-442b-8102-b8414809d8e3",
    "_uuid": "a89e4673-96aa-4b2f-916c-6c6bce257519",
    "execution": {
     "iopub.execute_input": "2022-09-27T21:50:04.859338Z",
     "iopub.status.busy": "2022-09-27T21:50:04.858996Z",
     "iopub.status.idle": "2022-09-27T21:50:05.486379Z",
     "shell.execute_reply": "2022-09-27T21:50:05.485562Z",
     "shell.execute_reply.started": "2022-09-27T21:50:04.859307Z"
    },
    "jupyter": {
     "outputs_hidden": false
    }
   },
   "outputs": [],
   "source": [
    "# Load Tweet dataset\n",
    "df1 = pd.read_csv('../input/twitter-and-reddit-sentimental-analysis-dataset/Twitter_Data.csv')\n",
    "# Output first five rows\n",
    "df1.head()"
   ]
  },
  {
   "cell_type": "code",
   "execution_count": null,
   "metadata": {
    "_cell_guid": "0a8f7e68-a86c-4185-aa69-041e2dbfbbcd",
    "_uuid": "6b2e7439-e264-47de-a24e-f26299e6662f",
    "execution": {
     "iopub.execute_input": "2022-09-27T21:50:09.983857Z",
     "iopub.status.busy": "2022-09-27T21:50:09.983506Z",
     "iopub.status.idle": "2022-09-27T21:50:10.015438Z",
     "shell.execute_reply": "2022-09-27T21:50:10.014611Z",
     "shell.execute_reply.started": "2022-09-27T21:50:09.983823Z"
    },
    "jupyter": {
     "outputs_hidden": false
    }
   },
   "outputs": [],
   "source": [
    "# Load Tweet dataset\n",
    "df2 = pd.read_csv('../input/appletwittersentimenttexts/apple-twitter-sentiment-texts.csv')\n",
    "df2 = df2.rename(columns={'text': 'clean_text', 'sentiment':'category'})\n",
    "df2['category'] = df2['category'].map({-1: -1.0, 0: 0.0, 1:1.0})\n",
    "# Output first five rows\n",
    "\n",
    "df2.head()"
   ]
  },
  {
   "cell_type": "markdown",
   "metadata": {
    "_cell_guid": "6d806168-0fd8-4c53-951f-ae424c6b18b5",
    "_uuid": "35ba0524-cb6d-4458-8d79-e27f52d9d2d9"
   },
   "source": [
    "The `category` column has 3 values:\n",
    "1. 0 Indicating it is a Neutral Sentiment\n",
    "2. 1 Indicating a Postive Sentiment\n",
    "3. -1 Indicating a Negative Sentiment"
   ]
  },
  {
   "cell_type": "code",
   "execution_count": null,
   "metadata": {
    "_cell_guid": "0aadd60d-21c4-44c4-8fc9-4a5abb5ffcec",
    "_uuid": "2438c526-1edc-4d76-be63-0e56a379a254",
    "execution": {
     "iopub.execute_input": "2022-09-27T21:50:16.396586Z",
     "iopub.status.busy": "2022-09-27T21:50:16.396230Z",
     "iopub.status.idle": "2022-09-27T21:50:16.439376Z",
     "shell.execute_reply": "2022-09-27T21:50:16.438606Z",
     "shell.execute_reply.started": "2022-09-27T21:50:16.396549Z"
    },
    "jupyter": {
     "outputs_hidden": false
    }
   },
   "outputs": [],
   "source": [
    "# Load Tweet dataset\n",
    "df3 = pd.read_csv('../input/twitterdata/finalSentimentdata2.csv')\n",
    "df3 = df3.rename(columns={'text': 'clean_text', 'sentiment':'category'})\n",
    "df3['category'] = df3['category'].map({'sad': -1.0, 'anger': -1.0, 'fear': -1.0, 'joy':1.0})\n",
    "df3 = df3.drop(['Unnamed: 0'], axis=1)\n",
    "# Output first five rows\n",
    "df3.head()"
   ]
  },
  {
   "cell_type": "code",
   "execution_count": null,
   "metadata": {
    "_cell_guid": "ed299507-c682-4bfd-b997-146ab3552b77",
    "_uuid": "f7fb215b-48b9-49fc-a6d7-a54610aeddee",
    "execution": {
     "iopub.execute_input": "2022-09-27T21:50:19.061540Z",
     "iopub.status.busy": "2022-09-27T21:50:19.061110Z",
     "iopub.status.idle": "2022-09-27T21:50:19.189856Z",
     "shell.execute_reply": "2022-09-27T21:50:19.188823Z",
     "shell.execute_reply.started": "2022-09-27T21:50:19.061498Z"
    },
    "jupyter": {
     "outputs_hidden": false
    }
   },
   "outputs": [],
   "source": [
    "# Load Tweet dataset\n",
    "df4 = pd.read_csv('../input/twitter-airline-sentiment/Tweets.csv')\n",
    "df4 = df4.rename(columns={'text': 'clean_text', 'airline_sentiment':'category'})\n",
    "df4['category'] = df4['category'].map({'negative': -1.0, 'neutral': 0.0, 'positive':1.0})\n",
    "df4 = df4[['category','clean_text']]\n",
    "# Output first five rows\n",
    "df4.head()"
   ]
  },
  {
   "cell_type": "code",
   "execution_count": null,
   "metadata": {
    "_cell_guid": "0725a44b-49c3-4bbc-b763-537bc252ffa9",
    "_uuid": "40162102-3d8c-40cb-90aa-4768c908436e",
    "execution": {
     "iopub.execute_input": "2022-09-27T21:50:22.217919Z",
     "iopub.status.busy": "2022-09-27T21:50:22.217578Z",
     "iopub.status.idle": "2022-09-27T21:50:22.228829Z",
     "shell.execute_reply": "2022-09-27T21:50:22.227820Z",
     "shell.execute_reply.started": "2022-09-27T21:50:22.217886Z"
    },
    "jupyter": {
     "outputs_hidden": false
    }
   },
   "outputs": [],
   "source": [
    "df = pd.concat([df1, df2, df3, df4], ignore_index=True)"
   ]
  },
  {
   "cell_type": "code",
   "execution_count": null,
   "metadata": {
    "_cell_guid": "486ed74c-3923-449d-9ec5-99f7dcd66087",
    "_uuid": "201a6249-c24c-4d39-b438-3d1a763a604d",
    "execution": {
     "iopub.execute_input": "2022-09-27T21:50:24.042256Z",
     "iopub.status.busy": "2022-09-27T21:50:24.041926Z",
     "iopub.status.idle": "2022-09-27T21:50:24.061607Z",
     "shell.execute_reply": "2022-09-27T21:50:24.060435Z",
     "shell.execute_reply.started": "2022-09-27T21:50:24.042224Z"
    },
    "jupyter": {
     "outputs_hidden": false
    }
   },
   "outputs": [],
   "source": [
    "# Check for missing data\n",
    "df.isnull().sum()"
   ]
  },
  {
   "cell_type": "code",
   "execution_count": null,
   "metadata": {
    "_cell_guid": "06510275-87ba-47d5-9589-e78270258c10",
    "_uuid": "4e2799f7-7cc8-457c-a43f-2ddfa67fabab",
    "execution": {
     "iopub.execute_input": "2022-09-27T21:50:25.189541Z",
     "iopub.status.busy": "2022-09-27T21:50:25.189217Z",
     "iopub.status.idle": "2022-09-27T21:50:25.235528Z",
     "shell.execute_reply": "2022-09-27T21:50:25.234759Z",
     "shell.execute_reply.started": "2022-09-27T21:50:25.189508Z"
    },
    "jupyter": {
     "outputs_hidden": false
    }
   },
   "outputs": [],
   "source": [
    "# drop missing rows\n",
    "df.dropna(axis=0, inplace=True)"
   ]
  },
  {
   "cell_type": "code",
   "execution_count": null,
   "metadata": {
    "_cell_guid": "177ff162-f381-44ba-bb85-36ea40de02d1",
    "_uuid": "c90a041b-eb65-4a4b-805a-7a9900e8df02",
    "execution": {
     "iopub.execute_input": "2022-09-27T21:50:26.677552Z",
     "iopub.status.busy": "2022-09-27T21:50:26.677201Z",
     "iopub.status.idle": "2022-09-27T21:50:26.684516Z",
     "shell.execute_reply": "2022-09-27T21:50:26.683429Z",
     "shell.execute_reply.started": "2022-09-27T21:50:26.677518Z"
    },
    "jupyter": {
     "outputs_hidden": false
    }
   },
   "outputs": [],
   "source": [
    "# dimensionality of the data\n",
    "df.shape"
   ]
  },
  {
   "cell_type": "code",
   "execution_count": null,
   "metadata": {
    "_cell_guid": "ef27f6c0-14f1-4938-88c7-dce16525c2f3",
    "_uuid": "163626db-91d9-484d-9024-dfdc7712be96",
    "execution": {
     "iopub.execute_input": "2022-09-27T21:50:27.608546Z",
     "iopub.status.busy": "2022-09-27T21:50:27.608219Z",
     "iopub.status.idle": "2022-09-27T21:50:27.628219Z",
     "shell.execute_reply": "2022-09-27T21:50:27.627374Z",
     "shell.execute_reply.started": "2022-09-27T21:50:27.608516Z"
    },
    "jupyter": {
     "outputs_hidden": false
    }
   },
   "outputs": [],
   "source": [
    "# Map tweet categories\n",
    "df['category'] = df['category'].map({-1.0:'Negative', 0.0:'Neutral', 1.0:'Positive'})\n",
    "\n",
    "# Output first five rows\n",
    "df.head()"
   ]
  },
  {
   "cell_type": "markdown",
   "metadata": {
    "_cell_guid": "c7cde934-0ba3-4f17-add8-82cda374a45e",
    "_uuid": "25451ff0-d739-4029-9b13-447a5fa752db"
   },
   "source": [
    "## Exploratory Data Analysis"
   ]
  },
  {
   "cell_type": "markdown",
   "metadata": {
    "_cell_guid": "269af7d5-a4d8-4f40-871d-49928d690942",
    "_uuid": "20ef8a9b-b557-4877-98ec-cf8b0f485703"
   },
   "source": [
    "Data Visualisation-"
   ]
  },
  {
   "cell_type": "code",
   "execution_count": null,
   "metadata": {
    "_cell_guid": "93d87248-3293-4306-b672-6a3d1e551706",
    "_uuid": "92567094-5bd4-461b-89de-05bc3098138d",
    "execution": {
     "iopub.execute_input": "2022-09-27T21:50:31.430156Z",
     "iopub.status.busy": "2022-09-27T21:50:31.429833Z",
     "iopub.status.idle": "2022-09-27T21:50:34.527379Z",
     "shell.execute_reply": "2022-09-27T21:50:34.526560Z",
     "shell.execute_reply.started": "2022-09-27T21:50:31.430125Z"
    },
    "jupyter": {
     "outputs_hidden": false
    }
   },
   "outputs": [],
   "source": [
    "# The distribution of sentiments\n",
    "df.groupby('category').count().plot(kind='bar')"
   ]
  },
  {
   "cell_type": "markdown",
   "metadata": {
    "_cell_guid": "b9f1cd1a-3fcf-4a4a-8abe-01683e8850b7",
    "_uuid": "c487d37b-8554-4bfd-bece-f87b2be4c103"
   },
   "source": [
    "Plotting the distribution of tweet lengths"
   ]
  },
  {
   "cell_type": "code",
   "execution_count": null,
   "metadata": {
    "_cell_guid": "c6d91b8e-7009-4d7b-9fb4-0ea0e8260bfb",
    "_uuid": "900abce1-10f0-4a3b-b3db-69bc92d90817",
    "execution": {
     "iopub.execute_input": "2022-09-27T21:50:38.943083Z",
     "iopub.status.busy": "2022-09-27T21:50:38.942104Z",
     "iopub.status.idle": "2022-09-27T21:50:40.675055Z",
     "shell.execute_reply": "2022-09-27T21:50:40.673862Z",
     "shell.execute_reply.started": "2022-09-27T21:50:38.943005Z"
    },
    "jupyter": {
     "outputs_hidden": false
    }
   },
   "outputs": [],
   "source": [
    "# Calculate tweet lengths\n",
    "tweet_len = pd.Series([len(tweet.split()) for tweet in df['clean_text']])\n",
    "\n",
    "# The distribution of tweet text lengths\n",
    "tweet_len.plot(kind='box')"
   ]
  },
  {
   "cell_type": "markdown",
   "metadata": {
    "_cell_guid": "40b0cbba-a724-4b55-a306-60cef61614b7",
    "_uuid": "dafbbd71-8135-441b-94a5-41045bc850de"
   },
   "source": [
    "Plotting the distribution of text length for positive sentiment tweets"
   ]
  },
  {
   "cell_type": "code",
   "execution_count": null,
   "metadata": {
    "_cell_guid": "8b560255-1061-4a99-a6c8-e79b6f8e7d0a",
    "_uuid": "4a48ea39-76fb-48da-b8c0-3480809fecd1",
    "execution": {
     "iopub.execute_input": "2022-09-27T21:50:51.940244Z",
     "iopub.status.busy": "2022-09-27T21:50:51.939894Z",
     "iopub.status.idle": "2022-09-27T21:50:53.396473Z",
     "shell.execute_reply": "2022-09-27T21:50:53.395627Z",
     "shell.execute_reply.started": "2022-09-27T21:50:51.940211Z"
    },
    "jupyter": {
     "outputs_hidden": false
    }
   },
   "outputs": [],
   "source": [
    "fig = plt.figure(figsize=(14,7))\n",
    "df['length'] = df.clean_text.str.split().apply(len)\n",
    "ax1 = fig.add_subplot(122)\n",
    "sns.histplot(df[df['category']=='Positive']['length'], ax=ax1,color='green')\n",
    "describe = df.length[df.category=='Positive'].describe().to_frame().round(2)\n",
    "\n",
    "ax2 = fig.add_subplot(121)\n",
    "ax2.axis('off')\n",
    "font_size = 14\n",
    "bbox = [0, 0, 1, 1]\n",
    "table = ax2.table(cellText = describe.values, rowLabels = describe.index, bbox=bbox, colLabels=describe.columns)\n",
    "table.set_fontsize(font_size)\n",
    "fig.suptitle('Distribution of text length for positive sentiment tweets.', fontsize=16)\n",
    "\n",
    "plt.show()"
   ]
  },
  {
   "cell_type": "markdown",
   "metadata": {
    "_cell_guid": "2bd343a0-b9df-49f2-9f02-bfb2789d4491",
    "_uuid": "7de8e7ce-1b0b-49be-a353-f2f31fd6d863"
   },
   "source": [
    "Plotting the Distribution of text length for Negative sentiment tweets."
   ]
  },
  {
   "cell_type": "code",
   "execution_count": null,
   "metadata": {
    "_cell_guid": "7e2ae773-c18b-4d00-a56a-4519b858ed51",
    "_uuid": "b63bbb0c-78ea-4a18-a94e-52946af6ca3e",
    "execution": {
     "iopub.execute_input": "2021-06-15T13:48:30.324749Z",
     "iopub.status.busy": "2021-06-15T13:48:30.324267Z",
     "iopub.status.idle": "2021-06-15T13:48:31.707317Z",
     "shell.execute_reply": "2021-06-15T13:48:31.706317Z",
     "shell.execute_reply.started": "2021-06-15T13:48:30.324711Z"
    },
    "jupyter": {
     "outputs_hidden": false
    }
   },
   "outputs": [],
   "source": [
    "fig = plt.figure(figsize=(14,7))\n",
    "df['length'] = df.clean_text.str.split().apply(len)\n",
    "ax1 = fig.add_subplot(122)\n",
    "sns.histplot(df[df['category']=='Negative']['length'], ax=ax1,color='red')\n",
    "describe = df.length[df.category=='Negative'].describe().to_frame().round(2)\n",
    "\n",
    "ax2 = fig.add_subplot(121)\n",
    "ax2.axis('off')\n",
    "font_size = 14\n",
    "bbox = [0, 0, 1, 1]\n",
    "table = ax2.table(cellText = describe.values, rowLabels = describe.index, bbox=bbox, colLabels=describe.columns)\n",
    "table.set_fontsize(font_size)\n",
    "fig.suptitle('Distribution of text length for Negative sentiment tweets.', fontsize=16)\n",
    "\n",
    "plt.show()"
   ]
  },
  {
   "cell_type": "markdown",
   "metadata": {
    "_cell_guid": "36f7bdd4-1a5d-4575-9481-e5d317f50049",
    "_uuid": "bbb313ab-aca3-4823-94b9-235a9bab845e"
   },
   "source": [
    "Plotting the Pie chart of the percentage of different sentiments of all the tweets"
   ]
  },
  {
   "cell_type": "code",
   "execution_count": null,
   "metadata": {
    "_cell_guid": "98207def-3cc9-4f73-8726-b1f71048c3b6",
    "_uuid": "3ec20e3c-4a70-4ec2-b694-e13286d1c4e8",
    "execution": {
     "iopub.execute_input": "2021-06-15T13:48:31.709046Z",
     "iopub.status.busy": "2021-06-15T13:48:31.708555Z",
     "iopub.status.idle": "2021-06-15T13:48:32.627791Z",
     "shell.execute_reply": "2021-06-15T13:48:32.626969Z",
     "shell.execute_reply.started": "2021-06-15T13:48:31.709008Z"
    },
    "jupyter": {
     "outputs_hidden": false
    }
   },
   "outputs": [],
   "source": [
    "import plotly.express as px\n",
    "fig = px.pie(df, names='category', title ='Pie chart of different sentiments of tweets')\n",
    "fig.show()"
   ]
  },
  {
   "cell_type": "code",
   "execution_count": null,
   "metadata": {
    "_cell_guid": "d01c95a4-3f68-437d-9063-4753f1258c84",
    "_uuid": "03aef98a-4837-4fcb-b117-085a421a35dc",
    "execution": {
     "iopub.execute_input": "2022-09-27T21:51:03.545778Z",
     "iopub.status.busy": "2022-09-27T21:51:03.545329Z",
     "iopub.status.idle": "2022-09-27T21:51:03.562281Z",
     "shell.execute_reply": "2022-09-27T21:51:03.561338Z",
     "shell.execute_reply.started": "2022-09-27T21:51:03.545736Z"
    },
    "jupyter": {
     "outputs_hidden": false
    }
   },
   "outputs": [],
   "source": [
    "df.drop(['length'], axis=1, inplace=True)\n",
    "df.head"
   ]
  },
  {
   "cell_type": "code",
   "execution_count": null,
   "metadata": {
    "_cell_guid": "21a5ed8a-b496-4b90-be85-ea13c8224da7",
    "_uuid": "3fe90f83-0774-4e1e-b08b-817816bf93d7",
    "execution": {
     "iopub.execute_input": "2022-09-27T22:17:28.098127Z",
     "iopub.status.busy": "2022-09-27T22:17:28.097795Z",
     "iopub.status.idle": "2022-09-27T22:17:28.104285Z",
     "shell.execute_reply": "2022-09-27T22:17:28.103298Z",
     "shell.execute_reply.started": "2022-09-27T22:17:28.098098Z"
    }
   },
   "outputs": [],
   "source": [
    "#### Visualizing data into wordclouds\n",
    "\n",
    "\"\"\"\"\n",
    "from wordcloud import WordCloud, STOPWORDS\n",
    "\n",
    "def wordcount_gen(df, category):\n",
    "    '''\n",
    "    Generating Word Cloud\n",
    "    inputs:\n",
    "       - df: tweets dataset\n",
    "       - category: Positive/Negative/Neutral\n",
    "    '''\n",
    "    # Combine all tweets\n",
    "    combined_tweets = \" \".join([tweet for tweet in df[df.category==category]['clean_text']])\n",
    "                          \n",
    "    # Initialize wordcloud object\n",
    "    wc = WordCloud(background_color='white', \n",
    "                   max_words=50, \n",
    "                   stopwords = STOPWORDS)\n",
    "\n",
    "    # Generate and plot wordcloud\n",
    "    plt.figure(figsize=(10,10))\n",
    "    plt.imshow(wc.generate(combined_tweets))\n",
    "    plt.title('{} Sentiment Words'.format(category), fontsize=20)\n",
    "    plt.axis('off')\n",
    "    plt.show()\n",
    "    \n",
    "# Positive tweet words\n",
    "wordcount_gen(df, 'Positive')\n",
    "     \n",
    "# Negative tweet words\n",
    "wordcount_gen(df, 'Negative')\n",
    "     \n",
    "# Neutral tweet words\n",
    "wordcount_gen(df, 'Neutral')\n",
    "     \"\"\"\n"
   ]
  },
  {
   "cell_type": "markdown",
   "metadata": {
    "_cell_guid": "de0f402f-09e1-4bc6-bb6a-afc89ee55ad0",
    "_uuid": "f03fa6a3-85de-4c49-8e0f-eebc3abb0f74"
   },
   "source": [
    "## Data Preprocessing"
   ]
  },
  {
   "cell_type": "code",
   "execution_count": null,
   "metadata": {
    "_cell_guid": "13bf9b06-9a96-4e39-b3dd-8c24d848c2c2",
    "_uuid": "b452e7a7-8132-4951-a932-d007b3955870",
    "execution": {
     "iopub.execute_input": "2022-09-27T21:58:26.890749Z",
     "iopub.status.busy": "2022-09-27T21:58:26.890404Z",
     "iopub.status.idle": "2022-09-27T21:58:26.905186Z",
     "shell.execute_reply": "2022-09-27T21:58:26.904155Z",
     "shell.execute_reply.started": "2022-09-27T21:58:26.890697Z"
    },
    "jupyter": {
     "outputs_hidden": false
    }
   },
   "outputs": [],
   "source": [
    "def tweet_to_words(tweet):\n",
    "    ''' Convert tweet text into a sequence of words '''\n",
    "    \n",
    "    # convert to lowercase\n",
    "    text = tweet.lower()\n",
    "    # remove non letters\n",
    "    text = re.sub(r\"[^a-zA-Z0-9]\", \" \", text)\n",
    "    # tokenize\n",
    "    words = text.split()\n",
    "    # remove stopwords\n",
    "    words = [w for w in words if w not in stopwords.words(\"english\")]\n",
    "    # apply stemming\n",
    "    words = [PorterStemmer().stem(w) for w in words]\n",
    "    # return list\n",
    "    return words\n",
    "\n",
    "print(\"\\nOriginal tweet ->\", df['clean_text'][0])\n",
    "print(\"\\nProcessed tweet ->\", tweet_to_words(df['clean_text'][0]))"
   ]
  },
  {
   "cell_type": "code",
   "execution_count": null,
   "metadata": {
    "_cell_guid": "fdd4e291-fc5e-436a-bae3-fdde3fad279f",
    "_uuid": "792352af-397b-42b1-bd22-97a83548c929",
    "execution": {
     "iopub.execute_input": "2022-09-27T22:06:08.443815Z",
     "iopub.status.busy": "2022-09-27T22:06:08.443473Z",
     "iopub.status.idle": "2022-09-27T22:06:08.448787Z",
     "shell.execute_reply": "2022-09-27T22:06:08.447776Z",
     "shell.execute_reply.started": "2022-09-27T22:06:08.443783Z"
    },
    "jupyter": {
     "outputs_hidden": false
    }
   },
   "outputs": [],
   "source": [
    "# Apply data processing to each tweet\n",
    "#X = list(map(tweet_to_words, df['clean_text']))\n",
    "X = df['clean_text']"
   ]
  },
  {
   "cell_type": "code",
   "execution_count": null,
   "metadata": {
    "_cell_guid": "4f06bc18-d12c-4c77-90d3-97e056f2336e",
    "_uuid": "afe4880d-4718-4ac4-a475-4ff4ca592ae7",
    "execution": {
     "iopub.execute_input": "2022-09-27T22:05:22.940997Z",
     "iopub.status.busy": "2022-09-27T22:05:22.940572Z",
     "iopub.status.idle": "2022-09-27T22:05:22.983967Z",
     "shell.execute_reply": "2022-09-27T22:05:22.983147Z",
     "shell.execute_reply.started": "2022-09-27T22:05:22.940960Z"
    },
    "jupyter": {
     "outputs_hidden": false
    }
   },
   "outputs": [],
   "source": [
    "from sklearn.preprocessing import LabelEncoder\n",
    "\n",
    "# Encode target labels\n",
    "le = LabelEncoder()\n",
    "Y = le.fit_transform(df['category'])"
   ]
  },
  {
   "cell_type": "code",
   "execution_count": null,
   "metadata": {
    "_cell_guid": "c19810ad-086e-4304-b3d4-47c2135e17cc",
    "_uuid": "84bb5739-621a-4897-9ba1-07d5f784e35d",
    "execution": {
     "iopub.execute_input": "2022-09-27T22:06:11.918739Z",
     "iopub.status.busy": "2022-09-27T22:06:11.918383Z",
     "iopub.status.idle": "2022-09-27T22:06:11.924069Z",
     "shell.execute_reply": "2022-09-27T22:06:11.923115Z",
     "shell.execute_reply.started": "2022-09-27T22:06:11.918685Z"
    },
    "jupyter": {
     "outputs_hidden": false
    }
   },
   "outputs": [],
   "source": [
    "print(X[0])\n",
    "print(Y[0])"
   ]
  },
  {
   "cell_type": "markdown",
   "metadata": {
    "_cell_guid": "f9ff9b12-980d-4a0c-b205-7abba133ba3e",
    "_uuid": "a69f5a61-e641-4d50-be8a-561ffdd13aeb"
   },
   "source": [
    "### Train and test split"
   ]
  },
  {
   "cell_type": "code",
   "execution_count": null,
   "metadata": {
    "_cell_guid": "246d6ef8-7ed1-404f-9a55-2b74c407418c",
    "_uuid": "16792e3e-f18b-40aa-968a-f8d72ec01908",
    "execution": {
     "iopub.execute_input": "2022-09-27T22:06:24.621983Z",
     "iopub.status.busy": "2022-09-27T22:06:24.621619Z",
     "iopub.status.idle": "2022-09-27T22:06:24.680684Z",
     "shell.execute_reply": "2022-09-27T22:06:24.679834Z",
     "shell.execute_reply.started": "2022-09-27T22:06:24.621952Z"
    },
    "jupyter": {
     "outputs_hidden": false
    }
   },
   "outputs": [],
   "source": [
    "y = pd.get_dummies(df['category'])\n",
    "X_train, X_test, y_train, y_test = train_test_split(X, y, test_size=0.2, random_state=1)\n",
    "X_train, X_val, y_train, y_val = train_test_split(X_train, y_train, test_size=0.25, random_state=1)"
   ]
  },
  {
   "cell_type": "markdown",
   "metadata": {
    "_cell_guid": "ac8e697c-c61f-4de8-b80e-2a014c6e4e41",
    "_uuid": "59bb8dab-377f-4c0f-b0e7-dc4977fb7817"
   },
   "source": [
    "### Bag of words (BOW) feature extraction"
   ]
  },
  {
   "cell_type": "code",
   "execution_count": null,
   "metadata": {
    "_cell_guid": "c9e9e40f-3610-4d2f-87d3-a124082b688a",
    "_uuid": "3eb577ca-80df-496b-91e1-ba0aab21fe11",
    "execution": {
     "iopub.execute_input": "2022-09-27T22:06:28.290580Z",
     "iopub.status.busy": "2022-09-27T22:06:28.290245Z",
     "iopub.status.idle": "2022-09-27T22:06:32.625511Z",
     "shell.execute_reply": "2022-09-27T22:06:32.624670Z",
     "shell.execute_reply.started": "2022-09-27T22:06:28.290547Z"
    },
    "jupyter": {
     "outputs_hidden": false
    }
   },
   "outputs": [],
   "source": [
    "from sklearn.feature_extraction.text import CountVectorizer\n",
    "#from sklearn.feature_extraction.text import TfidfVectorizer\n",
    "\n",
    "vocabulary_size = 5000\n",
    "\n",
    "# Tweets have already been preprocessed hence dummy function will be passed in \n",
    "# to preprocessor & tokenizer step\n",
    "count_vector = CountVectorizer(max_features=vocabulary_size,\n",
    "#                               ngram_range=(1,2),    # unigram and bigram\n",
    "                                preprocessor=lambda x: x,\n",
    "                               tokenizer=lambda x: x) \n",
    "#tfidf_vector = TfidfVectorizer(lowercase=True, stop_words='english')\n",
    "\n",
    "# Fit the training data\n",
    "X_train = count_vector.fit_transform(X_train).toarray()\n",
    "\n",
    "# Transform testing data\n",
    "X_test = count_vector.transform(X_test).toarray()"
   ]
  },
  {
   "cell_type": "code",
   "execution_count": null,
   "metadata": {
    "_cell_guid": "172f7f81-9e69-4b17-838b-23a2f2206d45",
    "_uuid": "8577fe0b-162e-42c0-8d58-c377d77e462f",
    "execution": {
     "iopub.execute_input": "2022-09-27T22:06:35.062732Z",
     "iopub.status.busy": "2022-09-27T22:06:35.062393Z",
     "iopub.status.idle": "2022-09-27T22:06:35.066593Z",
     "shell.execute_reply": "2022-09-27T22:06:35.065649Z",
     "shell.execute_reply.started": "2022-09-27T22:06:35.062686Z"
    },
    "jupyter": {
     "outputs_hidden": false
    }
   },
   "outputs": [],
   "source": [
    "#import sklearn.preprocessing as pr\n",
    "\n",
    "# Normalize BoW features in training and test set\n",
    "#X_train = pr.normalize(X_train, axis=1)\n",
    "#X_test  = pr.normalize(X_test, axis=1)"
   ]
  },
  {
   "cell_type": "code",
   "execution_count": null,
   "metadata": {
    "_cell_guid": "87b2a010-f51b-4c8e-bfc7-7db8b9190a44",
    "_uuid": "832389ad-89a0-4302-bfde-62fbe5b767e5",
    "execution": {
     "iopub.execute_input": "2022-09-27T22:06:38.101841Z",
     "iopub.status.busy": "2022-09-27T22:06:38.101413Z",
     "iopub.status.idle": "2022-09-27T22:06:38.108904Z",
     "shell.execute_reply": "2022-09-27T22:06:38.107170Z",
     "shell.execute_reply.started": "2022-09-27T22:06:38.101800Z"
    },
    "jupyter": {
     "outputs_hidden": false
    }
   },
   "outputs": [],
   "source": [
    "# print first 200 words/tokens\n",
    "print(count_vector.get_feature_names()[0:200])"
   ]
  },
  {
   "cell_type": "code",
   "execution_count": null,
   "metadata": {
    "_cell_guid": "3357d08e-29cd-4cfb-99f1-edbef089445a",
    "_uuid": "67d7be8f-57ce-4f5d-9684-62ace517a549",
    "execution": {
     "iopub.execute_input": "2022-09-27T22:06:41.841274Z",
     "iopub.status.busy": "2022-09-27T22:06:41.840941Z",
     "iopub.status.idle": "2022-09-27T22:06:41.955476Z",
     "shell.execute_reply": "2022-09-27T22:06:41.954378Z",
     "shell.execute_reply.started": "2022-09-27T22:06:41.841244Z"
    },
    "jupyter": {
     "outputs_hidden": false
    }
   },
   "outputs": [],
   "source": [
    "# Plot the BoW feature vector\n",
    "plt.plot(X_train[2,:])\n",
    "plt.xlabel('Word')\n",
    "plt.ylabel('Count')\n",
    "plt.show()"
   ]
  },
  {
   "cell_type": "markdown",
   "metadata": {
    "_cell_guid": "fa0fa00f-3b2e-4bf3-9e56-a3c0e99a5033",
    "_uuid": "e0790578-2f97-45d2-ac1b-eca2dac01166"
   },
   "source": [
    "### Tokenizing & Padding"
   ]
  },
  {
   "cell_type": "code",
   "execution_count": null,
   "metadata": {
    "_cell_guid": "ee7d87c0-f428-47d0-92cf-4e3b157d83eb",
    "_uuid": "09fe6021-b3ac-419c-ab3b-3a1f76379a2c",
    "execution": {
     "iopub.execute_input": "2022-09-27T22:06:46.629958Z",
     "iopub.status.busy": "2022-09-27T22:06:46.629602Z",
     "iopub.status.idle": "2022-09-27T22:06:55.466946Z",
     "shell.execute_reply": "2022-09-27T22:06:55.465950Z",
     "shell.execute_reply.started": "2022-09-27T22:06:46.629925Z"
    },
    "jupyter": {
     "outputs_hidden": false
    }
   },
   "outputs": [],
   "source": [
    "from keras.preprocessing.text import Tokenizer\n",
    "from keras.preprocessing.sequence import pad_sequences\n",
    "\n",
    "max_words = 5000\n",
    "max_len=50\n",
    "\n",
    "def tokenize_pad_sequences(text):\n",
    "    '''\n",
    "    This function tokenize the input text into sequnences of intergers and then\n",
    "    pad each sequence to the same length\n",
    "    '''\n",
    "    # Text tokenization\n",
    "    tokenizer = Tokenizer(num_words=max_words, lower=True, split=' ')\n",
    "    tokenizer.fit_on_texts(text)\n",
    "    # Transforms text to a sequence of integers\n",
    "    X = tokenizer.texts_to_sequences(text)\n",
    "    # Pad sequences to the same length\n",
    "    X = pad_sequences(X, padding='post', maxlen=max_len)\n",
    "    # return sequences\n",
    "    return X, tokenizer\n",
    "\n",
    "print('Before Tokenization & Padding \\n', df['clean_text'][0])\n",
    "X, tokenizer = tokenize_pad_sequences(df['clean_text'])\n",
    "print('After Tokenization & Padding \\n', X[0])"
   ]
  },
  {
   "cell_type": "markdown",
   "metadata": {
    "_cell_guid": "918b178c-362d-4307-950c-67f205eadc68",
    "_uuid": "3428c844-00ef-4add-b27c-794d7aeb5c9b"
   },
   "source": [
    "### Saving tokenized data"
   ]
  },
  {
   "cell_type": "code",
   "execution_count": null,
   "metadata": {
    "_cell_guid": "53611a76-f3fe-4a8b-a86e-a956ad8dc2b3",
    "_uuid": "0dd5da2a-01b2-4697-a201-736d6a9bd9f1",
    "execution": {
     "iopub.execute_input": "2022-09-27T22:07:25.413794Z",
     "iopub.status.busy": "2022-09-27T22:07:25.413459Z",
     "iopub.status.idle": "2022-09-27T22:07:25.655056Z",
     "shell.execute_reply": "2022-09-27T22:07:25.654279Z",
     "shell.execute_reply.started": "2022-09-27T22:07:25.413761Z"
    },
    "jupyter": {
     "outputs_hidden": false
    }
   },
   "outputs": [],
   "source": [
    "import pickle\n",
    "\n",
    "# saving\n",
    "with open('tokenizer.pickle', 'wb') as handle:\n",
    "    pickle.dump(tokenizer, handle, protocol=pickle.HIGHEST_PROTOCOL)\n",
    "\n",
    "# loading\n",
    "with open('tokenizer.pickle', 'rb') as handle:\n",
    "    tokenizer = pickle.load(handle)"
   ]
  },
  {
   "cell_type": "markdown",
   "metadata": {
    "_cell_guid": "17d33b73-9e80-45f3-8dc2-d33353ac7fc7",
    "_uuid": "761a0192-6c66-44b1-988f-530dfc4ac8ce"
   },
   "source": [
    "### Train & Test Split"
   ]
  },
  {
   "cell_type": "code",
   "execution_count": null,
   "metadata": {
    "_cell_guid": "ab4d79f8-27f4-4384-866a-280442941ef7",
    "_uuid": "8218591d-f858-4e1f-a877-10e74f0885f3",
    "execution": {
     "iopub.execute_input": "2022-09-27T22:07:28.104740Z",
     "iopub.status.busy": "2022-09-27T22:07:28.104368Z",
     "iopub.status.idle": "2022-09-27T22:07:28.219875Z",
     "shell.execute_reply": "2022-09-27T22:07:28.218828Z",
     "shell.execute_reply.started": "2022-09-27T22:07:28.104689Z"
    },
    "jupyter": {
     "outputs_hidden": false
    }
   },
   "outputs": [],
   "source": [
    "y = pd.get_dummies(df['category'])\n",
    "X_train, X_test, y_train, y_test = train_test_split(X, y, test_size=0.2, random_state=1)\n",
    "X_train, X_val, y_train, y_val = train_test_split(X_train, y_train, test_size=0.25, random_state=1)\n",
    "print('Train Set ->', X_train.shape, y_train.shape)\n",
    "print('Validation Set ->', X_val.shape, y_val.shape)\n",
    "print('Test Set ->', X_test.shape, y_test.shape)"
   ]
  },
  {
   "cell_type": "code",
   "execution_count": null,
   "metadata": {
    "_cell_guid": "68b2697c-f73a-4f55-9dfa-f47319a60d3e",
    "_uuid": "73f3276a-0531-4142-8695-3af993665794",
    "execution": {
     "iopub.execute_input": "2022-09-27T22:07:30.731368Z",
     "iopub.status.busy": "2022-09-27T22:07:30.730994Z",
     "iopub.status.idle": "2022-09-27T22:07:30.736191Z",
     "shell.execute_reply": "2022-09-27T22:07:30.735125Z",
     "shell.execute_reply.started": "2022-09-27T22:07:30.731335Z"
    },
    "jupyter": {
     "outputs_hidden": false
    }
   },
   "outputs": [],
   "source": [
    "import keras.backend as K\n",
    "\n",
    "def f1_score(precision, recall):\n",
    "    ''' Function to calculate f1 score '''\n",
    "    \n",
    "    f1_val = 2*(precision*recall)/(precision+recall+K.epsilon())\n",
    "    return f1_val"
   ]
  },
  {
   "cell_type": "markdown",
   "metadata": {
    "_cell_guid": "819dd6c6-7269-4ebd-b130-089311a92c26",
    "_uuid": "f4466e64-4f6a-4868-b430-153d7511a83a"
   },
   "source": [
    "## Bidirectional LSTM Using NN"
   ]
  },
  {
   "cell_type": "code",
   "execution_count": null,
   "metadata": {
    "_cell_guid": "34db76fb-fc02-4aa9-86ef-88d30cb5aa01",
    "_uuid": "bb98be32-1c7a-442a-bd28-7bf3a01b6050",
    "execution": {
     "iopub.execute_input": "2022-09-27T22:07:34.633080Z",
     "iopub.status.busy": "2022-09-27T22:07:34.632689Z",
     "iopub.status.idle": "2022-09-27T22:07:37.594011Z",
     "shell.execute_reply": "2022-09-27T22:07:37.593236Z",
     "shell.execute_reply.started": "2022-09-27T22:07:34.633048Z"
    },
    "jupyter": {
     "outputs_hidden": false
    }
   },
   "outputs": [],
   "source": [
    "from keras.models import Sequential\n",
    "from keras.layers import Embedding, Conv1D, MaxPooling1D, Bidirectional, LSTM, Dense, Dropout\n",
    "from keras.metrics import Precision, Recall\n",
    "from keras.optimizers import SGD\n",
    "from keras.optimizers import RMSprop\n",
    "from keras import datasets\n",
    "\n",
    "from keras.callbacks import LearningRateScheduler\n",
    "from keras.callbacks import History\n",
    "\n",
    "from keras import losses\n",
    "\n",
    "vocab_size = 5000\n",
    "embedding_size = 32\n",
    "epochs=20\n",
    "learning_rate = 0.1\n",
    "decay_rate = learning_rate / epochs\n",
    "momentum = 0.8\n",
    "\n",
    "sgd = SGD(lr=learning_rate, momentum=momentum, decay=decay_rate, nesterov=False)\n",
    "# Build model\n",
    "model= Sequential()\n",
    "model.add(Embedding(vocab_size, embedding_size, input_length=max_len))\n",
    "model.add(Conv1D(filters=32, kernel_size=3, padding='same', activation='relu'))\n",
    "model.add(MaxPooling1D(pool_size=2))\n",
    "model.add(Bidirectional(LSTM(32)))\n",
    "model.add(Dropout(0.4))\n",
    "model.add(Dense(3, activation='softmax'))"
   ]
  },
  {
   "cell_type": "code",
   "execution_count": null,
   "metadata": {
    "_cell_guid": "7ffc99fa-11d6-409d-af3c-c4c77add6fe7",
    "_uuid": "7f4f6d96-8335-456d-b3d2-baaceec72fb2",
    "execution": {
     "iopub.execute_input": "2022-09-27T22:07:40.370219Z",
     "iopub.status.busy": "2022-09-27T22:07:40.369595Z",
     "iopub.status.idle": "2022-09-27T22:07:41.010548Z",
     "shell.execute_reply": "2022-09-27T22:07:41.009619Z",
     "shell.execute_reply.started": "2022-09-27T22:07:40.370174Z"
    },
    "jupyter": {
     "outputs_hidden": false
    }
   },
   "outputs": [],
   "source": [
    "import tensorflow as tf\n",
    "tf.keras.utils.plot_model(model, show_shapes=True)"
   ]
  },
  {
   "cell_type": "code",
   "execution_count": null,
   "metadata": {
    "_cell_guid": "402d6b63-3bf3-48cf-b590-163908ae68ae",
    "_uuid": "1f2778a3-1caf-4927-aef5-bdef1048457c",
    "execution": {
     "iopub.execute_input": "2022-09-27T22:08:59.066774Z",
     "iopub.status.busy": "2022-09-27T22:08:59.064351Z",
     "iopub.status.idle": "2022-09-27T22:14:34.846111Z",
     "shell.execute_reply": "2022-09-27T22:14:34.845397Z",
     "shell.execute_reply.started": "2022-09-27T22:08:59.066728Z"
    },
    "jupyter": {
     "outputs_hidden": false
    }
   },
   "outputs": [],
   "source": [
    "print(model.summary())\n",
    "\n",
    "# Compile model\n",
    "model.compile(loss='categorical_crossentropy', optimizer=sgd, \n",
    "               metrics=['accuracy', Precision(), Recall()])\n",
    "\n",
    "# Train model\n",
    "\n",
    "batch_size = 64\n",
    "history = model.fit(X_train, y_train,\n",
    "                      validation_data=(X_val, y_val),\n",
    "                      batch_size=batch_size, epochs=epochs, verbose=1)"
   ]
  },
  {
   "cell_type": "markdown",
   "metadata": {
    "_cell_guid": "f657ab51-e63e-47b3-8995-f13d79c570cd",
    "_uuid": "844d703e-882a-47c6-a3ba-b4622aa98626"
   },
   "source": [
    "### Model Accuracy & Loss"
   ]
  },
  {
   "cell_type": "code",
   "execution_count": null,
   "metadata": {
    "_cell_guid": "3310bf9e-95ff-4d89-8e64-0f677054bddd",
    "_uuid": "42e7ee95-8192-4410-9c47-9f950a7a870e",
    "execution": {
     "iopub.execute_input": "2022-09-27T22:15:21.036218Z",
     "iopub.status.busy": "2022-09-27T22:15:21.035892Z",
     "iopub.status.idle": "2022-09-27T22:15:25.753652Z",
     "shell.execute_reply": "2022-09-27T22:15:25.751756Z",
     "shell.execute_reply.started": "2022-09-27T22:15:21.036187Z"
    },
    "jupyter": {
     "outputs_hidden": false
    }
   },
   "outputs": [],
   "source": [
    "# Evaluate model on the test set\n",
    "loss, accuracy, precision, recall = model.evaluate(X_test, y_test, verbose=0)\n",
    "# Print metrics\n",
    "print('')\n",
    "print('Accuracy  : {:.4f}'.format(accuracy))\n",
    "print('Precision : {:.4f}'.format(precision))\n",
    "print('Recall    : {:.4f}'.format(recall))\n",
    "print('F1 Score  : {:.4f}'.format(f1_score(precision, recall)))"
   ]
  },
  {
   "cell_type": "code",
   "execution_count": null,
   "metadata": {
    "_cell_guid": "ab83ad9c-f59b-4209-9a0e-6e2d6535290e",
    "_uuid": "46151ee3-5a8b-44fe-b3fb-36c737323efb",
    "execution": {
     "iopub.execute_input": "2021-06-15T14:03:07.919393Z",
     "iopub.status.busy": "2021-06-15T14:03:07.919134Z",
     "iopub.status.idle": "2021-06-15T14:03:08.186032Z",
     "shell.execute_reply": "2021-06-15T14:03:08.185301Z",
     "shell.execute_reply.started": "2021-06-15T14:03:07.919368Z"
    },
    "jupyter": {
     "outputs_hidden": false
    }
   },
   "outputs": [],
   "source": [
    "def plot_training_hist(history):\n",
    "    '''Function to plot history for accuracy and loss'''\n",
    "    \n",
    "    fig, ax = plt.subplots(1, 2, figsize=(10,4))\n",
    "    # first plot\n",
    "    ax[0].plot(history.history['accuracy'])\n",
    "    ax[0].plot(history.history['val_accuracy'])\n",
    "    ax[0].set_title('Model Accuracy')\n",
    "    ax[0].set_xlabel('epoch')\n",
    "    ax[0].set_ylabel('accuracy')\n",
    "    ax[0].legend(['train', 'validation'], loc='best')\n",
    "    # second plot\n",
    "    ax[1].plot(history.history['loss'])\n",
    "    ax[1].plot(history.history['val_loss'])\n",
    "    ax[1].set_title('Model Loss')\n",
    "    ax[1].set_xlabel('epoch')\n",
    "    ax[1].set_ylabel('loss')\n",
    "    ax[1].legend(['train', 'validation'], loc='best')\n",
    "    \n",
    "plot_training_hist(history)"
   ]
  },
  {
   "cell_type": "markdown",
   "metadata": {
    "_cell_guid": "45f9ed85-ee6e-4012-b40d-33455fdb8474",
    "_uuid": "21d1d657-02fc-4db4-8ea1-fee1327b76c1"
   },
   "source": [
    "### Model Confusion Matrix"
   ]
  },
  {
   "cell_type": "code",
   "execution_count": null,
   "metadata": {
    "_cell_guid": "73d977c3-21eb-410d-8f64-91eb6c758e6e",
    "_uuid": "4fde18b3-a28c-44e2-8815-09efb6859b54",
    "execution": {
     "iopub.execute_input": "2022-09-27T22:15:36.494096Z",
     "iopub.status.busy": "2022-09-27T22:15:36.493735Z",
     "iopub.status.idle": "2022-09-27T22:15:39.832625Z",
     "shell.execute_reply": "2022-09-27T22:15:39.831905Z",
     "shell.execute_reply.started": "2022-09-27T22:15:36.494064Z"
    },
    "jupyter": {
     "outputs_hidden": false
    }
   },
   "outputs": [],
   "source": [
    "from sklearn.metrics import confusion_matrix\n",
    "\n",
    "def plot_confusion_matrix(model, X_test, y_test):\n",
    "    '''Function to plot confusion matrix for the passed model and the data'''\n",
    "    \n",
    "    sentiment_classes = ['Negative', 'Neutral', 'Positive']\n",
    "    # use model to do the prediction\n",
    "    y_pred = model.predict(X_test)\n",
    "    # compute confusion matrix\n",
    "    cm = confusion_matrix(np.argmax(np.array(y_test),axis=1), np.argmax(y_pred, axis=1))\n",
    "    # plot confusion matrix\n",
    "    plt.figure(figsize=(8,6))\n",
    "    sns.heatmap(cm, cmap=plt.cm.Blues, annot=True, fmt='d', \n",
    "                xticklabels=sentiment_classes,\n",
    "                yticklabels=sentiment_classes)\n",
    "    plt.title('Confusion matrix', fontsize=16)\n",
    "    plt.xlabel('Actual label', fontsize=12)\n",
    "    plt.ylabel('Predicted label', fontsize=12)\n",
    "    \n",
    "plot_confusion_matrix(model, X_test, y_test)"
   ]
  },
  {
   "cell_type": "markdown",
   "metadata": {
    "_cell_guid": "2aa7fd7a-c5e5-430a-8f4a-79c331e2486e",
    "_uuid": "f2225ada-4e4c-4b47-82b2-0b43b28dfb40"
   },
   "source": [
    "### Model save and load for the prediction"
   ]
  },
  {
   "cell_type": "code",
   "execution_count": null,
   "metadata": {
    "_cell_guid": "567c602f-0579-4257-8f6b-7b6039fa6729",
    "_uuid": "7005da8f-1988-4e7b-a34d-f1355fe504f7",
    "execution": {
     "iopub.execute_input": "2022-09-27T22:16:10.396293Z",
     "iopub.status.busy": "2022-09-27T22:16:10.395960Z",
     "iopub.status.idle": "2022-09-27T22:16:10.431762Z",
     "shell.execute_reply": "2022-09-27T22:16:10.430490Z",
     "shell.execute_reply.started": "2022-09-27T22:16:10.396261Z"
    },
    "jupyter": {
     "outputs_hidden": false
    }
   },
   "outputs": [],
   "source": [
    "# Save the model architecture & the weights\n",
    "model.save('best_model.h5')\n",
    "print('Best model saved')"
   ]
  },
  {
   "cell_type": "code",
   "execution_count": null,
   "metadata": {
    "_cell_guid": "80ff55f2-b918-4dea-84a6-d0260c65a0fa",
    "_uuid": "bcfae6c2-a987-443b-a3d4-46722dca3827",
    "execution": {
     "iopub.execute_input": "2022-09-27T22:16:13.994690Z",
     "iopub.status.busy": "2022-09-27T22:16:13.994353Z",
     "iopub.status.idle": "2022-09-27T22:16:14.467974Z",
     "shell.execute_reply": "2022-09-27T22:16:14.467089Z",
     "shell.execute_reply.started": "2022-09-27T22:16:13.994659Z"
    },
    "jupyter": {
     "outputs_hidden": false
    }
   },
   "outputs": [],
   "source": [
    "from keras.models import load_model\n",
    "\n",
    "# Load model\n",
    "model = load_model('best_model.h5')\n",
    "\n",
    "def predict_class(text):\n",
    "    '''Function to predict sentiment class of the passed text'''\n",
    "    \n",
    "    sentiment_classes = ['Negative', 'Neutral', 'Positive']\n",
    "    max_len=50\n",
    "    \n",
    "    # Transforms text to a sequence of integers using a tokenizer object\n",
    "    xt = tokenizer.texts_to_sequences(text)\n",
    "    # Pad sequences to the same length\n",
    "    xt = pad_sequences(xt, padding='post', maxlen=max_len)\n",
    "    # Do the prediction using the loaded model\n",
    "    yt = model.predict(xt).argmax(axis=1)\n",
    "    # Print the predicted sentiment\n",
    "    print('The predicted sentiment is', sentiment_classes[yt[0]])"
   ]
  },
  {
   "cell_type": "code",
   "execution_count": null,
   "metadata": {
    "_cell_guid": "886580de-a4b7-4d6c-9b44-f18541be7761",
    "_uuid": "6975be81-c751-4741-903f-858470c72ce0",
    "execution": {
     "iopub.execute_input": "2022-09-27T22:16:17.549659Z",
     "iopub.status.busy": "2022-09-27T22:16:17.549334Z",
     "iopub.status.idle": "2022-09-27T22:16:18.144782Z",
     "shell.execute_reply": "2022-09-27T22:16:18.143833Z",
     "shell.execute_reply.started": "2022-09-27T22:16:17.549626Z"
    },
    "jupyter": {
     "outputs_hidden": false
    }
   },
   "outputs": [],
   "source": [
    "predict_class(['\"I hate when I have to call and wake people up'])"
   ]
  },
  {
   "cell_type": "code",
   "execution_count": null,
   "metadata": {
    "_cell_guid": "bf0d2be3-1ee1-4202-b6cf-c943db11c215",
    "_uuid": "efe10049-9dd3-45f4-b175-517f1da3e5bb",
    "execution": {
     "iopub.execute_input": "2022-09-27T22:16:24.035309Z",
     "iopub.status.busy": "2022-09-27T22:16:24.034959Z",
     "iopub.status.idle": "2022-09-27T22:16:24.080455Z",
     "shell.execute_reply": "2022-09-27T22:16:24.079377Z",
     "shell.execute_reply.started": "2022-09-27T22:16:24.035277Z"
    },
    "jupyter": {
     "outputs_hidden": false
    }
   },
   "outputs": [],
   "source": [
    "predict_class(['The food was meh'])"
   ]
  },
  {
   "cell_type": "code",
   "execution_count": null,
   "metadata": {
    "_cell_guid": "80949345-470c-4a79-b866-cf55a56b7375",
    "_uuid": "9f778494-05db-4484-ab8e-f9821c9d85bd",
    "execution": {
     "iopub.execute_input": "2022-09-27T22:16:32.226837Z",
     "iopub.status.busy": "2022-09-27T22:16:32.226476Z",
     "iopub.status.idle": "2022-09-27T22:16:32.592647Z",
     "shell.execute_reply": "2022-09-27T22:16:32.591812Z",
     "shell.execute_reply.started": "2022-09-27T22:16:32.226803Z"
    },
    "jupyter": {
     "outputs_hidden": false
    }
   },
   "outputs": [],
   "source": [
    "predict_class(['He is a best minister india ever had seen'])"
   ]
  },
  {
   "cell_type": "markdown",
   "metadata": {
    "_cell_guid": "263301a3-2a40-4bd3-abf2-1f9f252c15f4",
    "_uuid": "aab55f67-aaf6-46a1-99f6-7c618d54c9c7"
   },
   "source": [
    "To use the 'tweepy' API, you need to create an account with Twitter Developer. After creating the account, go to 'Get Started' option and navigate to the 'Create an app' option. After you create the app, note down the below required credentials from there."
   ]
  },
  {
   "cell_type": "markdown",
   "metadata": {
    "_cell_guid": "e6cdf550-bd68-4967-8732-e54293237a19",
    "_uuid": "6d78ce42-70f5-4a3d-89af-87d320a71e9f"
   },
   "source": [
    "## Fetching data from twitter\n",
    "\n",
    "To get started, you’ll need to do the following things:\n",
    "\n",
    "  * Set up a Twitter account if you don’t have one already.\n",
    "  * Using your Twitter account, you will need to apply for Developer Access and then create an application that will generate the API credentials that you will use to access Twitter from Python.\n",
    "  *  Import the `tweepy` package."
   ]
  },
  {
   "cell_type": "markdown",
   "metadata": {
    "_cell_guid": "d2f08a09-60dc-4ee8-aab1-04e23487ecd5",
    "_uuid": "ae4ecfef-9342-45fb-98a3-b79672baa3d1"
   },
   "source": [
    "### Authorization"
   ]
  },
  {
   "cell_type": "markdown",
   "metadata": {
    "_cell_guid": "7c3a3792-3c24-4b97-85be-a27f601de2af",
    "_uuid": "2eee417f-0a18-476e-b0bc-f87d5ca87053"
   },
   "source": [
    "After installing and importing `tweepy` package (already done in the beginning),to access the Twitter API, you will need 4 things from the your Twitter App page. These keys are located in your Twitter app settings in the Keys and Access Tokens tab.\n",
    "\n",
    "    consumer key\n",
    "    consumer seceret key\n",
    "    access token key\n",
    "    access token secret key\n",
    "\n",
    "Do not share these with anyone else because these values are specific to your app."
   ]
  },
  {
   "cell_type": "code",
   "execution_count": null,
   "metadata": {
    "_cell_guid": "1a181a79-ae1a-43eb-9296-b7bafeaa503c",
    "_uuid": "b1650044-17e3-4604-83e1-77ccce4854c0",
    "execution": {
     "iopub.execute_input": "2021-06-15T14:03:13.381039Z",
     "iopub.status.busy": "2021-06-15T14:03:13.380688Z",
     "iopub.status.idle": "2021-06-15T14:03:13.387216Z",
     "shell.execute_reply": "2021-06-15T14:03:13.385212Z",
     "shell.execute_reply.started": "2021-06-15T14:03:13.381005Z"
    },
    "jupyter": {
     "outputs_hidden": false
    }
   },
   "outputs": [],
   "source": [
    "#Getting authorization\n",
    "consumer_key= 'yourkeyhere'\n",
    "consumer_secret= 'yourkeyhere'\n",
    "access_token= 'yourkeyhere'\n",
    "access_token_secret= 'yourkeyhere'\n",
    "\n",
    "auth = tw.OAuthHandler(consumer_key, consumer_key_secret)\n",
    "auth.set_access_token(access_token, access_token_secret)\n",
    "api = tw.API(auth, wait_on_rate_limit=True)"
   ]
  },
  {
   "cell_type": "markdown",
   "metadata": {
    "_cell_guid": "6dc6e135-aacb-4036-bc36-0e58ed88ca05",
    "_uuid": "572ab94f-9be7-4c76-97c1-0447257c96a6"
   },
   "source": [
    "## Search Twitter for Tweets"
   ]
  },
  {
   "cell_type": "markdown",
   "metadata": {
    "_cell_guid": "7972ab3d-44a9-4474-b91a-2d56506e3859",
    "_uuid": "dc835d2a-9994-4c72-98eb-fa6417c10c3f"
   },
   "source": [
    "### 1. Searching for a hashtag from a specified date\n",
    "\n",
    "Now you are ready to search Twitter for recent tweets! You will use the `.Cursor` method to get an object containing tweets containing the hashtag #wildfires.\n",
    "\n",
    "To create this query, you will define the:\n",
    "\n",
    "   * Search term - in this case #WorkFromHome\n",
    "   * the start date of your search"
   ]
  },
  {
   "cell_type": "code",
   "execution_count": null,
   "metadata": {
    "_cell_guid": "940aad4f-619e-417c-b628-46adfe954d9a",
    "_uuid": "10e880c3-2815-44e8-b9da-a7f4bf211988",
    "execution": {
     "iopub.execute_input": "2021-06-15T14:03:13.389186Z",
     "iopub.status.busy": "2021-06-15T14:03:13.388646Z",
     "iopub.status.idle": "2021-06-15T14:03:13.399131Z",
     "shell.execute_reply": "2021-06-15T14:03:13.398363Z",
     "shell.execute_reply.started": "2021-06-15T14:03:13.38915Z"
    },
    "jupyter": {
     "outputs_hidden": false
    }
   },
   "outputs": [],
   "source": [
    "# Define the search term and the date_since date as variables\n",
    "search_words = \"#WorkFromHome\"\n",
    "date_since = \"2021-06-10\""
   ]
  },
  {
   "cell_type": "markdown",
   "metadata": {
    "_cell_guid": "e329e214-fecd-4cb1-a713-03269d06d76d",
    "_uuid": "a0f7a434-52e5-452f-bd1b-9e76e6e02dc2"
   },
   "source": [
    "You can restrict the number of tweets returned by specifying a number in the `.items()` method. `.items(10)` will return 10 of the most recent tweets."
   ]
  },
  {
   "cell_type": "code",
   "execution_count": null,
   "metadata": {
    "_cell_guid": "3ebaeff9-3d35-43ec-836a-0e28e1f4d7da",
    "_uuid": "435c7fd0-140a-4cfe-9453-3552a8109c1a",
    "execution": {
     "iopub.execute_input": "2021-06-15T14:03:13.400913Z",
     "iopub.status.busy": "2021-06-15T14:03:13.400479Z",
     "iopub.status.idle": "2021-06-15T14:03:14.37241Z",
     "shell.execute_reply": "2021-06-15T14:03:14.37107Z",
     "shell.execute_reply.started": "2021-06-15T14:03:13.400867Z"
    },
    "jupyter": {
     "outputs_hidden": false
    }
   },
   "outputs": [],
   "source": [
    "# Collect tweets\n",
    "tweets = tw.Cursor(api.search,\n",
    "              q=search_words,\n",
    "              lang=\"en\",\n",
    "              since=date_since).items(10)\n",
    "\n",
    "# Iterate and print tweets\n",
    "for tweet in tweets:\n",
    "    print(tweet.text)\n",
    "    predict_class([tweet.text]) #predicting sentiment\n",
    "    print(\"\")"
   ]
  },
  {
   "cell_type": "markdown",
   "metadata": {
    "_cell_guid": "64698d02-019a-404f-af13-77a27dbe33a5",
    "_uuid": "d374a994-678d-4aee-a62f-14ad0a227969"
   },
   "source": [
    "### 2. Searching for a keyword\n",
    "\n",
    "You can pass the keyword of your interest here and the number of tweets (in this case 10) to be downloaded through the tweepy API."
   ]
  },
  {
   "cell_type": "code",
   "execution_count": null,
   "metadata": {
    "_cell_guid": "669f7b54-985b-4e1b-addc-b9f743d08b5c",
    "_uuid": "a6009af5-08b4-4e91-944a-5cf47ece9ae8",
    "execution": {
     "iopub.execute_input": "2021-06-15T14:03:14.374733Z",
     "iopub.status.busy": "2021-06-15T14:03:14.374389Z",
     "iopub.status.idle": "2021-06-15T14:03:15.501874Z",
     "shell.execute_reply": "2021-06-15T14:03:15.500512Z",
     "shell.execute_reply.started": "2021-06-15T14:03:14.374694Z"
    },
    "jupyter": {
     "outputs_hidden": false
    }
   },
   "outputs": [],
   "source": [
    "for tweet in api.search(q=\"elonmusk\", lang=\"en\", rpp=10):\n",
    "    print(f\"{tweet.user.name}:{tweet.text}\")\n",
    "    predict_class([tweet.text]) #predicting sentiment\n",
    "    print(\"\")"
   ]
  },
  {
   "cell_type": "markdown",
   "metadata": {
    "_cell_guid": "d22e9433-b51d-4a95-936b-e595eeda787a",
    "_uuid": "79c0086c-a59f-4fa5-a3ad-0de380445c2a"
   },
   "source": [
    "### 3. Searching for a username\n",
    "\n",
    "The `user_timeline()` method of the API class in Tweepy module is used to get the most recent statuses posted from the authenticating user or the user specified.\n",
    "\n",
    "* `screen_name` = user id name of the twitter user\n",
    "* `count` = no. of tweets to be fetched\n",
    "* `lang` = language of tweet \n",
    "* `tweet_mode = 'extended'` swaps the text index for full_text, and prevents a primary tweet longer than 140 characters from being truncated.\n",
    "\n",
    "\n",
    "The below query pulls 10 tweets from Twitter user @ of english language and predicts its sentiments."
   ]
  },
  {
   "cell_type": "code",
   "execution_count": null,
   "metadata": {
    "_cell_guid": "7a53d142-1b6b-45bf-b5a9-a34440ab5c95",
    "_uuid": "9f2529d0-7ad4-476c-a17d-95d2ea3af581",
    "execution": {
     "iopub.execute_input": "2021-06-15T14:03:15.503618Z",
     "iopub.status.busy": "2021-06-15T14:03:15.503291Z",
     "iopub.status.idle": "2021-06-15T14:03:16.197405Z",
     "shell.execute_reply": "2021-06-15T14:03:16.196622Z",
     "shell.execute_reply.started": "2021-06-15T14:03:15.503581Z"
    },
    "jupyter": {
     "outputs_hidden": false
    }
   },
   "outputs": [],
   "source": [
    "posts = api.user_timeline(screen_name=\"elonmusk\", count = 10, lang =\"en\", tweet_mode=\"extended\")\n",
    "\n",
    "l=[] \n",
    "i=1\n",
    "\n",
    "for tweet in posts[:10]:\n",
    "    l.append(tweet.full_text) \n",
    "    i=i+1\n",
    "for j in range (0,9):\n",
    "    print(l[j])\n",
    "    predict_class([l[j]])  #predicting sentiment\n",
    "    print(\"\\n\")"
   ]
  }
 ],
 "metadata": {
  "kernelspec": {
   "display_name": "Python 3",
   "language": "python",
   "name": "python3"
  },
  "language_info": {
   "codemirror_mode": {
    "name": "ipython",
    "version": 3
   },
   "file_extension": ".py",
   "mimetype": "text/x-python",
   "name": "python",
   "nbconvert_exporter": "python",
   "pygments_lexer": "ipython3",
   "version": "3.8.8"
  },
  "varInspector": {
   "cols": {
    "lenName": 16,
    "lenType": 16,
    "lenVar": 40
   },
   "kernels_config": {
    "python": {
     "delete_cmd_postfix": "",
     "delete_cmd_prefix": "del ",
     "library": "var_list.py",
     "varRefreshCmd": "print(var_dic_list())"
    },
    "r": {
     "delete_cmd_postfix": ") ",
     "delete_cmd_prefix": "rm(",
     "library": "var_list.r",
     "varRefreshCmd": "cat(var_dic_list()) "
    }
   },
   "types_to_exclude": [
    "module",
    "function",
    "builtin_function_or_method",
    "instance",
    "_Feature"
   ],
   "window_display": false
  }
 },
 "nbformat": 4,
 "nbformat_minor": 4
}
